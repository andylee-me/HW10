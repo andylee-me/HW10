{
  "nbformat": 4,
  "nbformat_minor": 0,
  "metadata": {
    "colab": {
      "name": "HW10-圖表",
      "provenance": [],
      "collapsed_sections": [],
      "toc_visible": true,
      "authorship_tag": "ABX9TyPS0QzWFiBlBEq4c4RhxDdB",
      "include_colab_link": true
    },
    "kernelspec": {
      "display_name": "Python 3",
      "name": "python3"
    },
    "language_info": {
      "name": "python"
    }
  },
  "cells": [
    {
      "cell_type": "markdown",
      "metadata": {
        "id": "view-in-github",
        "colab_type": "text"
      },
      "source": [
        "<a href=\"https://colab.research.google.com/github/andylee-me/HW10/blob/main/HW10_%E5%9C%96%E8%A1%A8.ipynb\" target=\"_parent\"><img src=\"https://colab.research.google.com/assets/colab-badge.svg\" alt=\"Open In Colab\"/></a>"
      ]
    },
    {
      "cell_type": "code",
      "metadata": {
        "colab": {
          "base_uri": "https://localhost:8080/"
        },
        "id": "ovkWNu7f_boI",
        "outputId": "ade6c95d-823a-4dfe-f27c-531d2ba30022"
      },
      "source": [
        "from google.colab import drive\n",
        "drive.mount('/content/drive')"
      ],
      "execution_count": null,
      "outputs": [
        {
          "output_type": "stream",
          "text": [
            "Drive already mounted at /content/drive; to attempt to forcibly remount, call drive.mount(\"/content/drive\", force_remount=True).\n"
          ],
          "name": "stdout"
        }
      ]
    },
    {
      "cell_type": "code",
      "metadata": {
        "colab": {
          "base_uri": "https://localhost:8080/"
        },
        "id": "DZxkMnAWCsS2",
        "outputId": "66416779-aabc-4bbc-a0b7-af16d76573c1"
      },
      "source": [
        "with open('/content/drive/My Drive/population.txt', 'r') as f: \n",
        "    line = f.readlines()"
      ],
      "execution_count": null,
      "outputs": [
        {
          "output_type": "stream",
          "text": [
            "['years = [1000,1500,1600,1700,1750,1800,1850,1900,1950,1960,1965,1970,1975,1980,1985,1990,1995,2000,2005,2010,2015]\\n', '\\n', 'pops_1 = [200,400,458,580,662,791,1000,1262,1650,2525,2758,3018,3322,3682,4061,4440,4853,5310,6520,6930,7349]\\n', 'pops_2 = [500,454,575,800,950,1200,1500,2000,3500,3800,4020,4300,4552,4700,4722,4690,4500,4100,4010,3900,3828]']\n"
          ],
          "name": "stdout"
        }
      ]
    },
    {
      "cell_type": "code",
      "metadata": {
        "colab": {
          "base_uri": "https://localhost:8080/"
        },
        "id": "qyIvTdXgDd8b",
        "outputId": "19053d9e-21c0-47cb-ad61-903a7371d7ba"
      },
      "source": [
        "year = line[0]\n",
        "import re\n",
        "year = ([float(s) for s in re.findall(r'-?\\d+\\.?\\d*', year)])\n",
        "peo_1 = line[2]\n",
        "peo_1 =  ([float(s) for s in re.findall(r'-?\\d+\\.?\\d*', peo_1)])\n",
        "peo_1.pop(0)\n",
        "peo_2 = line[3]\n",
        "peo_2 = ([float(s) for s in re.findall(r'-?\\d+\\.?\\d*', peo_2)])\n",
        "peo_2.pop(0)"
      ],
      "execution_count": null,
      "outputs": [
        {
          "output_type": "stream",
          "text": [
            "[1000.0, 1500.0, 1600.0, 1700.0, 1750.0, 1800.0, 1850.0, 1900.0, 1950.0, 1960.0, 1965.0, 1970.0, 1975.0, 1980.0, 1985.0, 1990.0, 1995.0, 2000.0, 2005.0, 2010.0, 2015.0]\n",
            "[200.0, 400.0, 458.0, 580.0, 662.0, 791.0, 1000.0, 1262.0, 1650.0, 2525.0, 2758.0, 3018.0, 3322.0, 3682.0, 4061.0, 4440.0, 4853.0, 5310.0, 6520.0, 6930.0, 7349.0]\n",
            "[500.0, 454.0, 575.0, 800.0, 950.0, 1200.0, 1500.0, 2000.0, 3500.0, 3800.0, 4020.0, 4300.0, 4552.0, 4700.0, 4722.0, 4690.0, 4500.0, 4100.0, 4010.0, 3900.0, 3828.0]\n"
          ],
          "name": "stdout"
        }
      ]
    },
    {
      "cell_type": "code",
      "metadata": {
        "colab": {
          "base_uri": "https://localhost:8080/",
          "height": 323
        },
        "id": "xXjaho5ADKL9",
        "outputId": "6b963bae-93e0-40c6-e763-4a0f16765fbb"
      },
      "source": [
        "import matplotlib.pyplot as plt\n",
        "line1, = plt.plot(year,peo_1,label='Taipei') #畫線\n",
        "line2, = plt.plot(year,peo_2,label='Tainan') #畫線\n",
        "plt.title(\"population number\", fontsize=24) #圖表標題\n",
        "plt.xlabel(\"years\", fontsize=16) #x軸標題\n",
        "plt.ylabel(\"people\", fontsize=16) #y軸標題\n",
        "plt.tick_params(axis='both', labelsize=24, color='blue')\n",
        "plt.legend(handles=[line1,line2])\n",
        "plt.savefig('HW10.png', bbox_inches='tight')\n",
        "plt.show() #顯示繪製的圖形"
      ],
      "execution_count": null,
      "outputs": [
        {
          "output_type": "display_data",
          "data": {
            "image/png": "[encoded data removed]",
            "text/plain": [
              "<Figure size 432x288 with 1 Axes>"
            ]
          },
          "metadata": {
            "tags": [],
            "needs_background": "light"
          }
        }
      ]
    }
  ]
}